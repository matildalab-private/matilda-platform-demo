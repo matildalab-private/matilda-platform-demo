{
 "cells": [
  {
   "cell_type": "code",
   "execution_count": null,
   "id": "58e482b0-9184-4f20-ab23-0d7b6b8946a1",
   "metadata": {},
   "outputs": [],
   "source": [
    "pip install imageio absl-py==1.4.0 astunparse==1.6.3 cachetools==4.2.4 charset-normalizer==2.1.1 gast==0.3.3 google-auth==1.35.0 google-auth-oauthlib==0.4.6 google-pasta==0.2.0 grpcio==1.51.1 h5py==2.10.0 idna==3.4 importlib-metadata==6.0.0 keras-preprocessing==1.1.2 lxml==4.9.2 markdown==3.4.1 markupsafe==2.1.1 numpy==1.19.5 oauthlib==3.2.2 opt-einsum==3.3.0 protobuf==3.20.1 pyasn1==0.4.8 pyasn1-modules==0.2.8 requests==2.28.1 requests-oauthlib==1.3.1 rsa==4.9 scipy==1.4.1 tensorboard==2.2.2 tensorboard-plugin-wit==1.8.1 tensorflow==2.2.0 tensorflow-estimator==2.2.0 termcolor==2.2.0 tqdm==4.64.1 urllib3==1.26.14 werkzeug==2.2.2 wrapt==1.14.1 zipp==3.11.0 opencv-python==4.7.0.68 gdown==4.6.0"
   ]
  },
  {
   "cell_type": "code",
   "execution_count": null,
   "id": "0dcf43b9-9dc7-44b5-a4d0-ff7b35af32b6",
   "metadata": {},
   "outputs": [],
   "source": [
    "%pip install wget\n",
    "%mkdir data\n",
    "!wget https://pjreddie.com/media/files/yolov3.weights -O data/yolov3.weights"
   ]
  },
  {
   "cell_type": "code",
   "execution_count": null,
   "id": "eacf7b53-0451-43ef-b003-15cdb00267da",
   "metadata": {},
   "outputs": [],
   "source": [
    "!python convert.py --weights ./data/yolov3.weights --output ./checkpoints/yolov3.tf"
   ]
  },
  {
   "cell_type": "code",
   "execution_count": null,
   "id": "b7b5450a-cc19-46d0-880d-5cba23d0102f",
   "metadata": {},
   "outputs": [],
   "source": [
    "!gdown https://drive.google.com/drive/folders/1ES9wMg9S0lmuy084-zFWc3Tbd8RTwIWx?usp=share_link --folder -O ./pcb_dataset"
   ]
  },
  {
   "cell_type": "code",
   "execution_count": null,
   "id": "ca551a86-511e-460c-bb5c-7f81d5e977f2",
   "metadata": {},
   "outputs": [],
   "source": [
    "import cv2\n",
    "image = cv2.imread(\"./pcb_dataset/test.jpg\")\n",
    "\n",
    "from matplotlib import pyplot as plt\n",
    "plt.imshow(image)\n",
    "plt.title('train_dataset_image')\n",
    "plt.show()"
   ]
  },
  {
   "cell_type": "code",
   "execution_count": null,
   "id": "0093c2df-6b44-45c2-a4ac-c8b03035d35e",
   "metadata": {},
   "outputs": [],
   "source": [
    "!python train.py \\\n",
    "    --names pcb \\\n",
    "    --batch_size 8 \\\n",
    "    --dataset ./pcb_dataset/pcb_train_dataset.tfrecord \\\n",
    "    --epochs 2 --classes ./pcb_dataset/pcb.names \\\n",
    "    --num_classes 6 --size 416 \\\n",
    "    --mode eager_tf \\\n",
    "    --transfer darknet \\\n",
    "    --weights ./checkpoints/yolov3.tf \\\n",
    "    --output ./pcb_defect_model \\\n",
    "    --weights_num_classes 80"
   ]
  },
  {
   "cell_type": "code",
   "execution_count": null,
   "id": "a72e459f-f295-4a16-9363-67c3c6305de4",
   "metadata": {},
   "outputs": [],
   "source": []
  }
 ],
 "metadata": {
  "kernelspec": {
   "display_name": "Python 3",
   "language": "python",
   "name": "python3"
  },
  "language_info": {
   "codemirror_mode": {
    "name": "ipython",
    "version": 3
   },
   "file_extension": ".py",
   "mimetype": "text/x-python",
   "name": "python",
   "nbconvert_exporter": "python",
   "pygments_lexer": "ipython3",
   "version": "3.8.10"
  }
 },
 "nbformat": 4,
 "nbformat_minor": 5
}
