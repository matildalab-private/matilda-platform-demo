{
 "cells": [
  {
   "cell_type": "code",
   "execution_count": null,
   "id": "58e482b0-9184-4f20-ab23-0d7b6b8946a1",
   "metadata": {},
   "outputs": [],
   "source": [
    "!pip install imageio matplotlib absl-py==1.4.0 astunparse==1.6.3 cachetools==4.2.4 charset-normalizer==2.1.1 gast==0.3.3 google-auth==1.35.0 google-auth-oauthlib==0.4.6 google-pasta==0.2.0 grpcio==1.51.1 h5py==2.10.0 idna==3.4 importlib-metadata==6.0.0 keras-preprocessing==1.1.2 lxml==4.9.2 markdown==3.4.1 markupsafe==2.1.1 numpy==1.19.5 oauthlib==3.2.2 opt-einsum==3.3.0 protobuf==3.20.1 pyasn1==0.4.8 pyasn1-modules==0.2.8 requests==2.28.1 requests-oauthlib==1.3.1 rsa==4.9 scipy==1.4.1 tensorboard==2.2.2 tensorboard-plugin-wit==1.8.1 tensorflow==2.2.0 tensorflow-estimator==2.2.0 termcolor==2.2.0 tqdm==4.64.1 urllib3==1.26.14 werkzeug==2.2.2 wrapt==1.14.1 zipp==3.11.0 opencv-python==4.7.0.68 gdown==4.6.0"
   ]
  },
  {
   "cell_type": "code",
   "execution_count": null,
   "id": "0dcf43b9-9dc7-44b5-a4d0-ff7b35af32b6",
   "metadata": {},
   "outputs": [],
   "source": [
    "%mkdir data\n",
    "%pip install wget\n",
    "!wget https://pjreddie.com/media/files/yolov3.weights -O data/yolov3.weights"
   ]
  },
  {
   "cell_type": "code",
   "execution_count": null,
   "id": "eacf7b53-0451-43ef-b003-15cdb00267da",
   "metadata": {},
   "outputs": [],
   "source": [
    "!python convert.py --weights ./data/yolov3.weights --output ./checkpoints/yolov3.tf"
   ]
  },
  {
   "cell_type": "code",
   "execution_count": null,
   "id": "b7b5450a-cc19-46d0-880d-5cba23d0102f",
   "metadata": {},
   "outputs": [],
   "source": [
    "!gdown https://drive.google.com/drive/folders/1DTLqPKm-eypYlyD54s-sEkcL-yGCPsyo?usp=share_link --folder -O ./brain_dataset"
   ]
  },
  {
   "cell_type": "code",
   "execution_count": null,
   "id": "c0e1b732-ef6d-4ac0-9b90-e5e8235f161d",
   "metadata": {},
   "outputs": [],
   "source": [
    "import cv2\n",
    "image = cv2.imread(\"./brain_dataset/test_input_1.jpg\")\n",
    "\n",
    "from matplotlib import pyplot as plt\n",
    "plt.imshow(image)\n",
    "plt.title('train_dataset_image')\n",
    "plt.show()"
   ]
  },
  {
   "cell_type": "code",
   "execution_count": null,
   "id": "0093c2df-6b44-45c2-a4ac-c8b03035d35e",
   "metadata": {},
   "outputs": [],
   "source": [
    "!python train.py \\\n",
    "    --names brain \\\n",
    "    --batch_size 8 \\\n",
    "    --dataset ./brain_dataset/axial_brain_train.tfrecord  \\\n",
    "    --val_dataset ./brain_dataset/axial_brain_val.tfrecord \\\n",
    "    --epochs 2 --size 256 \\\n",
    "    --classes ./brain_dataset/class.txt \\\n",
    "    --num_classes 2 \\\n",
    "    --mode eager_tf \\\n",
    "    --transfer darknet \\\n",
    "    --weights ./checkpoints/yolov3.tf \\\n",
    "    --output ./brain_tumor_model \\\n",
    "    --weights_num_classes 80"
   ]
  },
  {
   "cell_type": "code",
   "execution_count": null,
   "id": "a72e459f-f295-4a16-9363-67c3c6305de4",
   "metadata": {},
   "outputs": [],
   "source": []
  }
 ],
 "metadata": {
  "kernelspec": {
   "display_name": "nmt_test",
   "language": "python",
   "name": "python3"
  },
  "language_info": {
   "codemirror_mode": {
    "name": "ipython",
    "version": 3
   },
   "file_extension": ".py",
   "mimetype": "text/x-python",
   "name": "python",
   "nbconvert_exporter": "python",
   "pygments_lexer": "ipython3",
   "version": "3.8.13 | packaged by conda-forge | (default, Mar 25 2022, 06:05:16) \n[Clang 12.0.1 ]"
  },
  "vscode": {
   "interpreter": {
    "hash": "73b254912c1c6f8089e7a449e65b606b2d0f37e6b5d6d23eade1b337cc2db501"
   }
  }
 },
 "nbformat": 4,
 "nbformat_minor": 5
}
